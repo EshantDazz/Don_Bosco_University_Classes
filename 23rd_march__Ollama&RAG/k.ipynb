{
 "cells": [
  {
   "cell_type": "code",
   "execution_count": 67,
   "metadata": {},
   "outputs": [
    {
     "name": "stdout",
     "output_type": "stream",
     "text": [
      "3\n"
     ]
    }
   ],
   "source": [
    "print(3)\n",
    "from key import key\n"
   ]
  },
  {
   "cell_type": "code",
   "execution_count": 68,
   "metadata": {},
   "outputs": [],
   "source": [
    "from langchain_community.document_loaders import PyPDFLoader\n",
    "\n",
    "loader = PyPDFLoader(\"/Users/eshantdas/Downloads/_ArtificialIntelligence_ McKinsey on Economics.pdf\")\n",
    "pages = loader.load_and_split()"
   ]
  },
  {
   "cell_type": "code",
   "execution_count": 69,
   "metadata": {},
   "outputs": [
    {
     "data": {
      "text/plain": [
       "Document(page_content='The economic potential of generative AI \\nJune 2023The economic \\npotential of generative AI \\nThe next productivity frontier\\nAuthors\\nMichael ChuiEric HazanRoger RobertsAlex SinglaKate SmajeAlex SukharevskyLareina YeeRodney Zemmel', metadata={'source': '/Users/eshantdas/Downloads/_ArtificialIntelligence_ McKinsey on Economics.pdf', 'page': 0})"
      ]
     },
     "execution_count": 69,
     "metadata": {},
     "output_type": "execute_result"
    }
   ],
   "source": [
    "pages[0]"
   ]
  },
  {
   "cell_type": "code",
   "execution_count": 70,
   "metadata": {},
   "outputs": [
    {
     "data": {
      "text/plain": [
       "76"
      ]
     },
     "execution_count": 70,
     "metadata": {},
     "output_type": "execute_result"
    }
   ],
   "source": [
    "len(pages)"
   ]
  },
  {
   "cell_type": "code",
   "execution_count": 71,
   "metadata": {},
   "outputs": [
    {
     "data": {
      "text/plain": [
       "'The economic potential of generative AI \\nJune 2023The economic \\npotential of generative AI \\nThe next productivity frontier\\nAuthors\\nMichael ChuiEric HazanRoger RobertsAlex SinglaKate SmajeAlex SukharevskyLareina YeeRodney Zemmel'"
      ]
     },
     "execution_count": 71,
     "metadata": {},
     "output_type": "execute_result"
    }
   ],
   "source": [
    "pages[0].page_content"
   ]
  },
  {
   "cell_type": "code",
   "execution_count": 72,
   "metadata": {},
   "outputs": [],
   "source": [
    "import os\n",
    "import getpass\n",
    "\n",
    "os.environ['OPENAI_API_KEY'] = getpass.getpass('OpenAI API Key:')"
   ]
  },
  {
   "cell_type": "code",
   "execution_count": 73,
   "metadata": {},
   "outputs": [
    {
     "name": "stdout",
     "output_type": "stream",
     "text": [
      "5: Generative AI as a \n",
      "technology catalyst\n",
      "To grasp what lies ahead requires an understanding of the breakthroughs that have enabled \n",
      "the rise of generative AI, which were decades in the making. ChatGPT, GitHub Copilot, Stable Diffusion, and other generative AI tools that have captured current public a\n",
      "9: Generative AI is a step change in the evolution of artificial intelligence. As companies \n",
      "rush to adapt and implement it, understanding the technology’s potential to deliver value to the economy and society at large will help shape critical decisions. We have used two complementary lenses to determi\n"
     ]
    }
   ],
   "source": [
    "from langchain_community.vectorstores import FAISS\n",
    "from langchain_openai import OpenAIEmbeddings\n",
    "\n",
    "\n",
    "faiss_index = FAISS.from_documents(pages, OpenAIEmbeddings(api_key=key))\n",
    "docs = faiss_index.similarity_search(\"Tell me about generative AI?\", k=2)\n",
    "for doc in docs:\n",
    "    print(str(doc.metadata[\"page\"]) + \":\", doc.page_content[:300])"
   ]
  },
  {
   "cell_type": "code",
   "execution_count": 74,
   "metadata": {},
   "outputs": [
    {
     "name": "stdout",
     "output_type": "stream",
     "text": [
      "5: Generative AI as a \n",
      "technology catalyst\n",
      "To grasp what lies ahead requires an understanding of the breakthroughs that have enabled \n",
      "the rise of generative AI, which were decades in the making. ChatGPT, GitHub Copilot, Stable Diffusion, and other generative AI tools that have captured current public a\n",
      "9: Generative AI is a step change in the evolution of artificial intelligence. As companies \n",
      "rush to adapt and implement it, understanding the technology’s potential to deliver value to the economy and society at large will help shape critical decisions. We have used two complementary lenses to determi\n"
     ]
    }
   ],
   "source": [
    "from langchain_community.vectorstores import FAISS\n",
    "from langchain_openai import OpenAIEmbeddings\n",
    "\n",
    "faiss_index = FAISS.from_documents(pages, OpenAIEmbeddings(api_key=key))\n",
    "docs = faiss_index.similarity_search(\"Tell me about generative AI?\", k=2)\n",
    "for doc in docs:\n",
    "    print(str(doc.metadata[\"page\"]) + \":\", doc.page_content[:300])"
   ]
  },
  {
   "cell_type": "code",
   "execution_count": 75,
   "metadata": {},
   "outputs": [
    {
     "name": "stdout",
     "output_type": "stream",
     "text": [
      "23: How product R&D \n",
      "could be transformed\n",
      "Early research analysis\n",
      "Researchers use generative AI to enhance market reporting, \n",
      "ideation, and product or solution drafting. \n",
      "Virtual design\n",
      "Researchers use generative AI to generate prompt-based drafts and designs, allowing them to iterate quickly with more \n",
      "21: How software engineering \n",
      "could be transformed\n",
      "Inception and planning\n",
      "Software engineers and product managers use \n",
      "generative AI to assist in analyzing, cleaning, and labeling large volumes of data, such as user feedback, market trends, and existing system logs.\n",
      "System design\n",
      "Engineers use generativ\n",
      "31: Spotlight: Pharmaceuticals and medical products\n",
      "Generative AI deployment could unlock \n",
      "potential value equal to 2.6 to 4.5 percent of annual revenues across the pharmaceutical and medical-product industries\n",
      "1 R esearch and development in the pharmaceutical industry , Congressional Budget Office, Apr\n"
     ]
    }
   ],
   "source": [
    "docs = faiss_index.similarity_search(\"How product R&D could be transformed?\", k=3)\n",
    "for doc in docs:\n",
    "    print(str(doc.metadata[\"page\"]) + \":\", doc.page_content[:300])"
   ]
  },
  {
   "cell_type": "code",
   "execution_count": null,
   "metadata": {},
   "outputs": [],
   "source": []
  },
  {
   "cell_type": "code",
   "execution_count": null,
   "metadata": {},
   "outputs": [],
   "source": []
  },
  {
   "cell_type": "code",
   "execution_count": null,
   "metadata": {},
   "outputs": [],
   "source": []
  },
  {
   "cell_type": "code",
   "execution_count": null,
   "metadata": {},
   "outputs": [],
   "source": []
  }
 ],
 "metadata": {
  "kernelspec": {
   "display_name": "myenv",
   "language": "python",
   "name": "python3"
  },
  "language_info": {
   "codemirror_mode": {
    "name": "ipython",
    "version": 3
   },
   "file_extension": ".py",
   "mimetype": "text/x-python",
   "name": "python",
   "nbconvert_exporter": "python",
   "pygments_lexer": "ipython3",
   "version": "3.10.8"
  }
 },
 "nbformat": 4,
 "nbformat_minor": 2
}
