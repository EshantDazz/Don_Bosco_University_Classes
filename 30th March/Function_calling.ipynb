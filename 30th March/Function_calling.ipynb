{
 "cells": [
  {
   "cell_type": "code",
   "execution_count": 1,
   "metadata": {},
   "outputs": [
    {
     "data": {
      "text/plain": [
       "'OPENAI_API_KEY'"
      ]
     },
     "execution_count": 1,
     "metadata": {},
     "output_type": "execute_result"
    }
   ],
   "source": [
    "'OPENAI_API_KEY'"
   ]
  },
  {
   "cell_type": "code",
   "execution_count": 2,
   "metadata": {},
   "outputs": [],
   "source": [
    "import requests\n",
    "def get_current_weather(location):\n",
    "    url = \"https://ai-weather-by-meteosource.p.rapidapi.com/find_places\"\n",
    "\n",
    "    querystring = {\"text\":location,\"language\":\"en\"}\n",
    "\n",
    "    headers = {\n",
    "        \"X-RapidAPI-Key\": \"3826de90c7mshdc6e79c2b2b9ab8p192886jsnfd31a1def743\",\n",
    "        \"X-RapidAPI-Host\": \"ai-weather-by-meteosource.p.rapidapi.com\"\n",
    "    }\n",
    "\n",
    "    response = requests.get(url, headers=headers, params=querystring)\n",
    "\n",
    "    print(response.json())\n",
    "    return response.json()"
   ]
  },
  {
   "cell_type": "code",
   "execution_count": 4,
   "metadata": {},
   "outputs": [
    {
     "name": "stdout",
     "output_type": "stream",
     "text": [
      "[{'name': 'Mumbai', 'place_id': 'mumbai', 'adm_area1': 'Maharashtra', 'adm_area2': None, 'country': 'India', 'lat': '19.07283N', 'lon': '72.88261E', 'timezone': 'Asia/Kolkata', 'type': 'settlement'}, {'name': 'Navi Mumbai', 'place_id': 'navi-mumbai', 'adm_area1': 'Maharashtra', 'adm_area2': 'Thane', 'country': 'India', 'lat': '19.03681N', 'lon': '73.01582E', 'timezone': 'Asia/Kolkata', 'type': 'settlement'}, {'name': 'Borivali', 'place_id': 'borivli', 'adm_area1': 'Maharashtra', 'adm_area2': 'Mumbai Suburban', 'country': 'India', 'lat': '19.23496N', 'lon': '72.85976E', 'timezone': 'Asia/Kolkata', 'type': 'settlement'}, {'name': 'Powai', 'place_id': 'powai', 'adm_area1': 'Maharashtra', 'adm_area2': 'Mumbai Suburban', 'country': 'India', 'lat': '19.1164N', 'lon': '72.90471E', 'timezone': 'Asia/Kolkata', 'type': 'settlement'}, {'name': 'Madh', 'place_id': 'madh-1264586', 'adm_area1': 'Maharashtra', 'adm_area2': 'Mumbai Suburban', 'country': 'India', 'lat': '19.15N', 'lon': '72.83333E', 'timezone': 'Asia/Kolkata', 'type': 'settlement'}, {'name': 'Gorai', 'place_id': 'gorai-1270937', 'adm_area1': 'Maharashtra', 'adm_area2': 'Mumbai Suburban', 'country': 'India', 'lat': '19.25N', 'lon': '72.78333E', 'timezone': 'Asia/Kolkata', 'type': 'settlement'}, {'name': 'Marve', 'place_id': 'marve-1263453', 'adm_area1': 'Maharashtra', 'adm_area2': 'Mumbai Suburban', 'country': 'India', 'lat': '19.18333N', 'lon': '72.8E', 'timezone': 'Asia/Kolkata', 'type': 'settlement'}, {'name': 'Mandvi', 'place_id': 'mandvi-1263823', 'adm_area1': 'Maharashtra', 'adm_area2': 'Mumbai', 'country': 'India', 'lat': '18.95N', 'lon': '72.83333E', 'timezone': 'Asia/Kolkata', 'type': 'settlement'}, {'name': 'Manori', 'place_id': 'manori-1263644', 'adm_area1': 'Maharashtra', 'adm_area2': 'Mumbai Suburban', 'country': 'India', 'lat': '19.20684N', 'lon': '72.78507E', 'timezone': 'Asia/Kolkata', 'type': 'settlement'}, {'name': 'Mumbai Suburban', 'place_id': 'mumbai-suburban', 'adm_area1': 'Maharashtra', 'adm_area2': 'Mumbai Suburban', 'country': 'India', 'lat': '19.12636N', 'lon': '72.84897E', 'timezone': 'Asia/Kolkata', 'type': 'administrative_area'}]\n"
     ]
    },
    {
     "data": {
      "text/plain": [
       "[{'name': 'Mumbai',\n",
       "  'place_id': 'mumbai',\n",
       "  'adm_area1': 'Maharashtra',\n",
       "  'adm_area2': None,\n",
       "  'country': 'India',\n",
       "  'lat': '19.07283N',\n",
       "  'lon': '72.88261E',\n",
       "  'timezone': 'Asia/Kolkata',\n",
       "  'type': 'settlement'},\n",
       " {'name': 'Navi Mumbai',\n",
       "  'place_id': 'navi-mumbai',\n",
       "  'adm_area1': 'Maharashtra',\n",
       "  'adm_area2': 'Thane',\n",
       "  'country': 'India',\n",
       "  'lat': '19.03681N',\n",
       "  'lon': '73.01582E',\n",
       "  'timezone': 'Asia/Kolkata',\n",
       "  'type': 'settlement'},\n",
       " {'name': 'Borivali',\n",
       "  'place_id': 'borivli',\n",
       "  'adm_area1': 'Maharashtra',\n",
       "  'adm_area2': 'Mumbai Suburban',\n",
       "  'country': 'India',\n",
       "  'lat': '19.23496N',\n",
       "  'lon': '72.85976E',\n",
       "  'timezone': 'Asia/Kolkata',\n",
       "  'type': 'settlement'},\n",
       " {'name': 'Powai',\n",
       "  'place_id': 'powai',\n",
       "  'adm_area1': 'Maharashtra',\n",
       "  'adm_area2': 'Mumbai Suburban',\n",
       "  'country': 'India',\n",
       "  'lat': '19.1164N',\n",
       "  'lon': '72.90471E',\n",
       "  'timezone': 'Asia/Kolkata',\n",
       "  'type': 'settlement'},\n",
       " {'name': 'Madh',\n",
       "  'place_id': 'madh-1264586',\n",
       "  'adm_area1': 'Maharashtra',\n",
       "  'adm_area2': 'Mumbai Suburban',\n",
       "  'country': 'India',\n",
       "  'lat': '19.15N',\n",
       "  'lon': '72.83333E',\n",
       "  'timezone': 'Asia/Kolkata',\n",
       "  'type': 'settlement'},\n",
       " {'name': 'Gorai',\n",
       "  'place_id': 'gorai-1270937',\n",
       "  'adm_area1': 'Maharashtra',\n",
       "  'adm_area2': 'Mumbai Suburban',\n",
       "  'country': 'India',\n",
       "  'lat': '19.25N',\n",
       "  'lon': '72.78333E',\n",
       "  'timezone': 'Asia/Kolkata',\n",
       "  'type': 'settlement'},\n",
       " {'name': 'Marve',\n",
       "  'place_id': 'marve-1263453',\n",
       "  'adm_area1': 'Maharashtra',\n",
       "  'adm_area2': 'Mumbai Suburban',\n",
       "  'country': 'India',\n",
       "  'lat': '19.18333N',\n",
       "  'lon': '72.8E',\n",
       "  'timezone': 'Asia/Kolkata',\n",
       "  'type': 'settlement'},\n",
       " {'name': 'Mandvi',\n",
       "  'place_id': 'mandvi-1263823',\n",
       "  'adm_area1': 'Maharashtra',\n",
       "  'adm_area2': 'Mumbai',\n",
       "  'country': 'India',\n",
       "  'lat': '18.95N',\n",
       "  'lon': '72.83333E',\n",
       "  'timezone': 'Asia/Kolkata',\n",
       "  'type': 'settlement'},\n",
       " {'name': 'Manori',\n",
       "  'place_id': 'manori-1263644',\n",
       "  'adm_area1': 'Maharashtra',\n",
       "  'adm_area2': 'Mumbai Suburban',\n",
       "  'country': 'India',\n",
       "  'lat': '19.20684N',\n",
       "  'lon': '72.78507E',\n",
       "  'timezone': 'Asia/Kolkata',\n",
       "  'type': 'settlement'},\n",
       " {'name': 'Mumbai Suburban',\n",
       "  'place_id': 'mumbai-suburban',\n",
       "  'adm_area1': 'Maharashtra',\n",
       "  'adm_area2': 'Mumbai Suburban',\n",
       "  'country': 'India',\n",
       "  'lat': '19.12636N',\n",
       "  'lon': '72.84897E',\n",
       "  'timezone': 'Asia/Kolkata',\n",
       "  'type': 'administrative_area'}]"
      ]
     },
     "execution_count": 4,
     "metadata": {},
     "output_type": "execute_result"
    }
   ],
   "source": [
    "get_current_weather('Mumbai')"
   ]
  },
  {
   "cell_type": "code",
   "execution_count": 5,
   "metadata": {},
   "outputs": [
    {
     "name": "stdout",
     "output_type": "stream",
     "text": [
      "[{'name': 'Meghalaya', 'place_id': 'meghalaya', 'adm_area1': 'Meghalaya', 'adm_area2': None, 'country': 'India', 'lat': '25.5N', 'lon': '91.33333E', 'timezone': 'Asia/Kolkata', 'type': 'administrative_area'}, {'name': 'Shillong', 'place_id': 'shillong', 'adm_area1': 'Meghalaya', 'adm_area2': 'East Khasi Hills', 'country': 'India', 'lat': '25.56892N', 'lon': '91.88313E', 'timezone': 'Asia/Kolkata', 'type': 'settlement'}, {'name': 'Tura', 'place_id': 'tura', 'adm_area1': 'Meghalaya', 'adm_area2': 'West Garo Hills', 'country': 'India', 'lat': '25.51421N', 'lon': '90.20239E', 'timezone': 'Asia/Kolkata', 'type': 'settlement'}, {'name': 'East Khasi Hills', 'place_id': 'east-khasi-hills', 'adm_area1': 'Meghalaya', 'adm_area2': 'East Khasi Hills', 'country': 'India', 'lat': '25.3805N', 'lon': '91.78905E', 'timezone': 'Asia/Kolkata', 'type': 'administrative_area'}, {'name': 'West Garo Hills', 'place_id': 'west-garo-hills', 'adm_area1': 'Meghalaya', 'adm_area2': 'West Garo Hills', 'country': 'India', 'lat': '25.56794N', 'lon': '90.22447E', 'timezone': 'Asia/Kolkata', 'type': 'administrative_area'}, {'name': 'West Jaintia Hills', 'place_id': 'west-jaintia-hills', 'adm_area1': 'Meghalaya', 'adm_area2': 'West Jaintia Hills', 'country': 'India', 'lat': '25.5N', 'lon': '92.25E', 'timezone': 'Asia/Kolkata', 'type': 'administrative_area'}, {'name': 'West Khasi Hills', 'place_id': 'west-khasi-hills', 'adm_area1': 'Meghalaya', 'adm_area2': 'West Khasi Hills', 'country': 'India', 'lat': '25.54776N', 'lon': '91.26957E', 'timezone': 'Asia/Kolkata', 'type': 'administrative_area'}, {'name': 'East Garo Hills', 'place_id': 'east-garo-hills', 'adm_area1': 'Meghalaya', 'adm_area2': 'East Garo Hills', 'country': 'India', 'lat': '25.61372N', 'lon': '90.62426E', 'timezone': 'Asia/Kolkata', 'type': 'administrative_area'}, {'name': 'Ri Bhoi', 'place_id': 'ribhoi', 'adm_area1': 'Meghalaya', 'adm_area2': 'Ri Bhoi', 'country': 'India', 'lat': '25.88997N', 'lon': '91.82707E', 'timezone': 'Asia/Kolkata', 'type': 'administrative_area'}, {'name': 'East Jaintia Hills', 'place_id': 'east-jaintia-hills', 'adm_area1': 'Meghalaya', 'adm_area2': 'East Jaintia Hills', 'country': 'India', 'lat': '25.35976N', 'lon': '92.3668E', 'timezone': 'Asia/Kolkata', 'type': 'administrative_area'}]\n"
     ]
    },
    {
     "data": {
      "text/plain": [
       "list"
      ]
     },
     "execution_count": 5,
     "metadata": {},
     "output_type": "execute_result"
    }
   ],
   "source": [
    "type(get_current_weather('Meghalaya'))"
   ]
  },
  {
   "cell_type": "code",
   "execution_count": 7,
   "metadata": {},
   "outputs": [],
   "source": [
    "import openai\n"
   ]
  },
  {
   "cell_type": "markdown",
   "metadata": {},
   "source": [
    "### `Function Calling`"
   ]
  },
  {
   "cell_type": "code",
   "execution_count": 10,
   "metadata": {},
   "outputs": [],
   "source": [
    "from dotenv import load_dotenv\n",
    "import os\n",
    "load_dotenv('myenv/.env')\n",
    "a=os.environ.get('OPENAI_API_KEY')"
   ]
  },
  {
   "cell_type": "code",
   "execution_count": 11,
   "metadata": {},
   "outputs": [
    {
     "ename": "APIRemovedInV1",
     "evalue": "\n\nYou tried to access openai.ChatCompletion, but this is no longer supported in openai>=1.0.0 - see the README at https://github.com/openai/openai-python for the API.\n\nYou can run `openai migrate` to automatically upgrade your codebase to use the 1.0.0 interface. \n\nAlternatively, you can pin your installation to the old version, e.g. `pip install openai==0.28`\n\nA detailed migration guide is available here: https://github.com/openai/openai-python/discussions/742\n",
     "output_type": "error",
     "traceback": [
      "\u001b[0;31m---------------------------------------------------------------------------\u001b[0m",
      "\u001b[0;31mAPIRemovedInV1\u001b[0m                            Traceback (most recent call last)",
      "Cell \u001b[0;32mIn[11], line 1\u001b[0m\n\u001b[0;32m----> 1\u001b[0m completion\u001b[38;5;241m=\u001b[39m\u001b[43mopenai\u001b[49m\u001b[38;5;241;43m.\u001b[39;49m\u001b[43mChatCompletion\u001b[49m\u001b[38;5;241;43m.\u001b[39;49m\u001b[43mcreate\u001b[49m\u001b[43m(\u001b[49m\n\u001b[1;32m      2\u001b[0m \n\u001b[1;32m      3\u001b[0m \u001b[43m    \u001b[49m\u001b[43mmodel\u001b[49m\u001b[38;5;241;43m=\u001b[39;49m\u001b[38;5;124;43m'\u001b[39;49m\u001b[38;5;124;43mgpt-3.5-turbo\u001b[39;49m\u001b[38;5;124;43m'\u001b[39;49m\u001b[43m,\u001b[49m\n\u001b[1;32m      4\u001b[0m \u001b[43m    \u001b[49m\u001b[43mmessages\u001b[49m\u001b[38;5;241;43m=\u001b[39;49m\u001b[43m[\u001b[49m\n\u001b[1;32m      5\u001b[0m \u001b[43m        \u001b[49m\u001b[43m{\u001b[49m\u001b[38;5;124;43m'\u001b[39;49m\u001b[38;5;124;43mrole\u001b[39;49m\u001b[38;5;124;43m'\u001b[39;49m\u001b[43m:\u001b[49m\u001b[38;5;124;43m'\u001b[39;49m\u001b[38;5;124;43msystem\u001b[39;49m\u001b[38;5;124;43m'\u001b[39;49m\u001b[43m,\u001b[49m\u001b[38;5;124;43m'\u001b[39;49m\u001b[38;5;124;43mcontent\u001b[39;49m\u001b[38;5;124;43m'\u001b[39;49m\u001b[43m:\u001b[49m\u001b[38;5;124;43m'\u001b[39;49m\u001b[38;5;124;43mYou are a helpful assistent about lattitudes and longitudes\u001b[39;49m\u001b[38;5;124;43m'\u001b[39;49m\u001b[43m}\u001b[49m\u001b[43m,\u001b[49m\n\u001b[1;32m      6\u001b[0m \u001b[43m        \u001b[49m\u001b[43m{\u001b[49m\u001b[38;5;124;43m'\u001b[39;49m\u001b[38;5;124;43mrole\u001b[39;49m\u001b[38;5;124;43m'\u001b[39;49m\u001b[43m:\u001b[49m\u001b[38;5;124;43m'\u001b[39;49m\u001b[38;5;124;43muser\u001b[39;49m\u001b[38;5;124;43m'\u001b[39;49m\u001b[43m,\u001b[49m\u001b[38;5;124;43m'\u001b[39;49m\u001b[38;5;124;43mcontent\u001b[39;49m\u001b[38;5;124;43m'\u001b[39;49m\u001b[43m:\u001b[49m\u001b[38;5;124;43m'\u001b[39;49m\u001b[38;5;124;43mHi there\u001b[39;49m\u001b[38;5;124;43m'\u001b[39;49m\u001b[43m}\u001b[49m\n\u001b[1;32m      7\u001b[0m \u001b[43m    \u001b[49m\u001b[43m]\u001b[49m\n\u001b[1;32m      8\u001b[0m \u001b[43m)\u001b[49m\n",
      "File \u001b[0;32m~/Desktop/DonBosco_Classes/Rag2/myenv/lib/python3.10/site-packages/openai/lib/_old_api.py:39\u001b[0m, in \u001b[0;36mAPIRemovedInV1Proxy.__call__\u001b[0;34m(self, *_args, **_kwargs)\u001b[0m\n\u001b[1;32m     38\u001b[0m \u001b[38;5;28;01mdef\u001b[39;00m \u001b[38;5;21m__call__\u001b[39m(\u001b[38;5;28mself\u001b[39m, \u001b[38;5;241m*\u001b[39m_args: Any, \u001b[38;5;241m*\u001b[39m\u001b[38;5;241m*\u001b[39m_kwargs: Any) \u001b[38;5;241m-\u001b[39m\u001b[38;5;241m>\u001b[39m Any:\n\u001b[0;32m---> 39\u001b[0m     \u001b[38;5;28;01mraise\u001b[39;00m APIRemovedInV1(symbol\u001b[38;5;241m=\u001b[39m\u001b[38;5;28mself\u001b[39m\u001b[38;5;241m.\u001b[39m_symbol)\n",
      "\u001b[0;31mAPIRemovedInV1\u001b[0m: \n\nYou tried to access openai.ChatCompletion, but this is no longer supported in openai>=1.0.0 - see the README at https://github.com/openai/openai-python for the API.\n\nYou can run `openai migrate` to automatically upgrade your codebase to use the 1.0.0 interface. \n\nAlternatively, you can pin your installation to the old version, e.g. `pip install openai==0.28`\n\nA detailed migration guide is available here: https://github.com/openai/openai-python/discussions/742\n"
     ]
    }
   ],
   "source": [
    "completion=openai.ChatCompletion.create(\n",
    "\n",
    "    model='gpt-3.5-turbo',\n",
    "    messages=[\n",
    "        {'role':'system','content':'You are a helpful assistent about lattitudes and longitudes'},\n",
    "        {'role':'user','content':'Hi there'}\n",
    "    ]\n",
    ")"
   ]
  },
  {
   "cell_type": "code",
   "execution_count": null,
   "metadata": {},
   "outputs": [],
   "source": []
  }
 ],
 "metadata": {
  "kernelspec": {
   "display_name": "myenv",
   "language": "python",
   "name": "python3"
  },
  "language_info": {
   "codemirror_mode": {
    "name": "ipython",
    "version": 3
   },
   "file_extension": ".py",
   "mimetype": "text/x-python",
   "name": "python",
   "nbconvert_exporter": "python",
   "pygments_lexer": "ipython3",
   "version": "3.10.8"
  }
 },
 "nbformat": 4,
 "nbformat_minor": 2
}
